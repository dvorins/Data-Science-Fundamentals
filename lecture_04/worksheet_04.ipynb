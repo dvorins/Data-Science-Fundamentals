{
 "cells": [
  {
   "cell_type": "markdown",
   "metadata": {},
   "source": [
    "# Worksheet 04\n",
    "\n",
    "Name:  \n",
    "UID: \n",
    "\n",
    "### Topics\n",
    "\n",
    "- Distance & Similarity"
   ]
  },
  {
   "cell_type": "markdown",
   "metadata": {},
   "source": [
    "### Distance & Similarity\n",
    "\n",
    "#### Part 1\n",
    "\n",
    "a) In the minkowski distance, describe what the parameters p and d are."
   ]
  },
  {
   "cell_type": "markdown",
   "metadata": {},
   "source": [
    "d is the dimensional of the space\n",
    "p is the order of the distance, so p=1 is like a manhattan distance, p=2 is like euclidian distance, etc.\n"
   ]
  },
  {
   "cell_type": "markdown",
   "metadata": {},
   "source": [
    "b) In your own words describe the difference between the Euclidean distance and the Manhattan distance."
   ]
  },
  {
   "cell_type": "markdown",
   "metadata": {},
   "source": [
    "manhattan distance only uses vectors that are orthogonal to each other and parrael to axises to reach a point\n",
    "euclidean distance uses one vector that is at a specfific angle"
   ]
  },
  {
   "cell_type": "markdown",
   "metadata": {},
   "source": [
    "Consider A = (0, 0) and B = (1, 1). When:\n",
    "\n",
    "- p = 1, d(A, B) = 2\n",
    "- p = 2, d(A, B) = $\\sqrt{2} = 1.41$\n",
    "- p = 3, d(A, B) = $2^{1/3} = 1.26$\n",
    "- p = 4, d(A, B) = $2^{1/4} = 1.19$\n",
    "\n",
    "c) Describe what you think distance would look like when p is very large."
   ]
  },
  {
   "cell_type": "markdown",
   "metadata": {},
   "source": [
    "Given the way the example is trending, I would say it will go toward equaling 1."
   ]
  },
  {
   "cell_type": "markdown",
   "metadata": {},
   "source": [
    "d) Is the minkowski distance still a distance function when p < 1? Expain why / why not."
   ]
  },
  {
   "cell_type": "markdown",
   "metadata": {},
   "source": [
    "No.  It violates the triangle inequality."
   ]
  },
  {
   "cell_type": "markdown",
   "metadata": {},
   "source": [
    "e) when would you use cosine similarity over the euclidan distance?"
   ]
  },
  {
   "cell_type": "markdown",
   "metadata": {},
   "source": [
    "Higher dimensional data."
   ]
  },
  {
   "cell_type": "markdown",
   "metadata": {},
   "source": [
    "f) what does the jaccard distance account for that the manhattan distance doesn't?"
   ]
  },
  {
   "cell_type": "markdown",
   "metadata": {},
   "source": [
    "jaccard distance is specifically for set-related similarity, such as differences in elements between sets, while the manhattan distance focuses on the absolute differences between corresponding elements of vectors or sets."
   ]
  },
  {
   "cell_type": "markdown",
   "metadata": {},
   "source": [
    "#### Part 2\n",
    "\n",
    "Consider the following two sentences:"
   ]
  },
  {
   "cell_type": "code",
   "execution_count": 1,
   "metadata": {},
   "outputs": [],
   "source": [
    "s1 = \"hello my name is Alice\"  \n",
    "s2 = \"hello my name is Bob\""
   ]
  },
  {
   "cell_type": "markdown",
   "metadata": {},
   "source": [
    "using the union of words from both sentences, we can represent each sentence as a vector. Each element of the vector represents the presence or absence of the word at that index.\n",
    "\n",
    "In this example, the union of words is (\"hello\", \"my\", \"name\", \"is\", \"Alice\", \"Bob\") so we can represent the above sentences as such:"
   ]
  },
  {
   "cell_type": "code",
   "execution_count": 2,
   "metadata": {},
   "outputs": [],
   "source": [
    "v1 = [1,    1, 1,   1, 1,    0]\n",
    "#     hello my name is Alice\n",
    "v2 = [1,    1, 1,   1, 0, 1]\n",
    "#     hello my name is    Bob"
   ]
  },
  {
   "cell_type": "markdown",
   "metadata": {},
   "source": [
    "Programmatically, we can do the following:"
   ]
  },
  {
   "cell_type": "code",
   "execution_count": 4,
   "metadata": {},
   "outputs": [
    {
     "name": "stdout",
     "output_type": "stream",
     "text": [
      "['Alice', 'name', 'my', 'Bob', 'hello', 'is']\n",
      "[1, 1, 1, 0, 1, 1]\n"
     ]
    }
   ],
   "source": [
    "corpus = [s1, s2]\n",
    "all_words = list(set([item for x in corpus for item in x.split()]))\n",
    "print(all_words)\n",
    "v1 = [1 if x in s1 else 0 for x in all_words]\n",
    "print(v1)"
   ]
  },
  {
   "cell_type": "markdown",
   "metadata": {},
   "source": [
    "Let's add a new sentence to our corpus:"
   ]
  },
  {
   "cell_type": "code",
   "execution_count": 5,
   "metadata": {},
   "outputs": [
    {
     "name": "stdout",
     "output_type": "stream",
     "text": [
      "['hello my name is Alice', 'hello my name is Bob', 'hi my name is Claude']\n"
     ]
    }
   ],
   "source": [
    "s3 = \"hi my name is Claude\"\n",
    "corpus.append(s3)\n",
    "print(corpus)"
   ]
  },
  {
   "cell_type": "markdown",
   "metadata": {},
   "source": [
    "a) What is the new union of words used to represent s1, s2, and s3?"
   ]
  },
  {
   "cell_type": "code",
   "execution_count": 7,
   "metadata": {},
   "outputs": [
    {
     "name": "stdout",
     "output_type": "stream",
     "text": [
      "[0, 1, 1, 1, 0, 0, 1, 1]\n",
      "[0, 0, 1, 1, 1, 0, 1, 1]\n",
      "[1, 0, 1, 1, 0, 1, 0, 1]\n"
     ]
    }
   ],
   "source": [
    "all_words = list(set([item for x in corpus for item in x.split()]))\n",
    "v1 = [1 if x in s1 else 0 for x in all_words]\n",
    "print(v1)\n",
    "v2 = [1 if x in s2 else 0 for x in all_words]\n",
    "print(v2)\n",
    "v3 = [1 if x in s3 else 0 for x in all_words]\n",
    "print(v3)"
   ]
  },
  {
   "cell_type": "markdown",
   "metadata": {},
   "source": [
    "b) Represent s1, s2, and s3 as vectors as above, using this new set of words."
   ]
  },
  {
   "cell_type": "code",
   "execution_count": null,
   "metadata": {},
   "outputs": [],
   "source": []
  },
  {
   "cell_type": "markdown",
   "metadata": {},
   "source": [
    "c) Write a function that computes the manhattan distance between two vectors. Which pair of vectors are the most similar under that distance function?"
   ]
  },
  {
   "cell_type": "code",
   "execution_count": 8,
   "metadata": {},
   "outputs": [
    {
     "name": "stdout",
     "output_type": "stream",
     "text": [
      "1.4142135623730951\n",
      "2.0\n"
     ]
    }
   ],
   "source": [
    "def minkowski(x, y, p):\n",
    "    if len(x) != len(y):\n",
    "        raise RuntimeError(\"x and y should be the same dimension\")\n",
    "    res = 0\n",
    "    for i in range(len(x)):\n",
    "        res += abs(x[i]-y[i]) ** p\n",
    "    return res ** (1/p)\n",
    "\n",
    "print(minkowski([0,0],[1,1],2))\n",
    "print(minkowski([0,0],[1,1],1))\n",
    "        "
   ]
  },
  {
   "cell_type": "markdown",
   "metadata": {},
   "source": []
  },
  {
   "cell_type": "markdown",
   "metadata": {},
   "source": [
    "d) Create a matrix of all these vectors (row major) and add the following sentences in vector form:\n",
    "\n",
    "- \"hi Alice\"\n",
    "- \"hello Claude\"\n",
    "- \"Bob my name is Claude\"\n",
    "- \"hi Claude my name is Alice\"\n",
    "- \"hello Bob\""
   ]
  },
  {
   "cell_type": "code",
   "execution_count": 13,
   "metadata": {},
   "outputs": [
    {
     "name": "stdout",
     "output_type": "stream",
     "text": [
      "[[1, 1, 0, 0, 0, 0, 0, 0], [0, 0, 0, 0, 0, 1, 1, 0], [0, 0, 1, 1, 1, 1, 0, 1], [1, 1, 1, 1, 0, 1, 0, 1], [0, 0, 0, 0, 1, 0, 1, 0]]\n"
     ]
    }
   ],
   "source": [
    "s1 = \"hi Alice\"  \n",
    "s2 = \"hello Claude\"\n",
    "s3 = \"Bob my name is Claude\"\n",
    "s4 = \"hi Claude my name is Alice\"\n",
    "s5 = \"hello Bob\"\n",
    "corpus = [s1, s2, s3, s4, s5]\n",
    "matrix = []\n",
    "all_words = list(set([item for x in corpus for item in x.split()]))\n",
    "v1 = [1 if x in s1 else 0 for x in all_words]\n",
    "v2 = [1 if x in s2 else 0 for x in all_words]\n",
    "v3 = [1 if x in s3 else 0 for x in all_words]\n",
    "v4 = [1 if x in s4 else 0 for x in all_words]\n",
    "v5 = [1 if x in s5 else 0 for x in all_words]\n",
    "\n",
    "matrix.append(v1)\n",
    "matrix.append(v2)\n",
    "matrix.append(v3)\n",
    "matrix.append(v4)\n",
    "matrix.append(v5)\n",
    "\n",
    "print(matrix)"
   ]
  },
  {
   "cell_type": "markdown",
   "metadata": {},
   "source": [
    "e) How many rows and columns does this matrix have?"
   ]
  },
  {
   "cell_type": "code",
   "execution_count": null,
   "metadata": {},
   "outputs": [],
   "source": [
    "# 5 rows, one for each data point\n",
    "# 8 columns, one for each unique word in the corpus"
   ]
  },
  {
   "cell_type": "markdown",
   "metadata": {},
   "source": [
    "f) When using the Manhattan distance, which two sentences are the most similar?"
   ]
  },
  {
   "cell_type": "code",
   "execution_count": 22,
   "metadata": {},
   "outputs": [
    {
     "name": "stdout",
     "output_type": "stream",
     "text": [
      "[[0, 0, 0, 0, 0, 1, 1, 0], [0, 0, 0, 0, 1, 0, 1, 0]] 2.0\n"
     ]
    }
   ],
   "source": [
    "\n",
    "min_dis = 10000\n",
    "min_vec = []\n",
    "\n",
    "for vec1 in matrix:\n",
    "    for vec2 in matrix:\n",
    "        if (vec1 != vec2):\n",
    "            temp_dis = (minkowski(vec1, vec2,1))\n",
    "            if temp_dis < min_dis:\n",
    "                min_dis = temp_dis\n",
    "                min_vec = [vec1, vec2]\n",
    "    \n",
    "print(min_vec, min_dis)\n",
    "\n",
    "# v2 and v5 so hello claude and hello bob (makes sense they are only 1 word away)"
   ]
  },
  {
   "cell_type": "markdown",
   "metadata": {},
   "source": [
    "#### Part 3 Challenge"
   ]
  },
  {
   "cell_type": "markdown",
   "metadata": {},
   "source": [
    "Given a set of graphs $\\mathcal{G}$, each graph $G \\in \\mathcal{G}$ is defined over the same set of nodes $V$. The graphs are represented by their adjacency matrices, which are 2D arrays where each element indicates whether a pair of nodes is connected by an edge.\n",
    "\n",
    "Your task is to compute the pairwise distances between these graphs based on a specific distance metric. The distance $d(G, G')$ between two graphs $G = (V, E)$ and $G' = (V, E')$ is defined as the sum of the number of edges in $G$ but not in $G'$, and the number of edges in $G'$ but not in $G$. Mathematically, this can be expressed as:\n",
    "\n",
    "$$\n",
    "d(G, G') = |E \\setminus E'| + |E' \\setminus E|.\n",
    "$$\n",
    "\n",
    "##### Requirements:\n",
    "1. **Input**: Should take a list of 2D numpy arrays as input. Each array represents the adjacency matrix of a graph.\n",
    "\n",
    "2. **Output**: Should output a pairwise distance matrix. If there are $n$ graphs in the input list, the output should be an $n \\times n$ matrix where the entry at position $(i, j)$ represents the distance between the $i^{th}$ and $j^{th}$ graph."
   ]
  },
  {
   "cell_type": "code",
   "execution_count": 31,
   "metadata": {},
   "outputs": [
    {
     "name": "stdout",
     "output_type": "stream",
     "text": [
      "Pairwise Distance Matrix:\n",
      "[[0 2 4 2]\n",
      " [2 0 2 0]\n",
      " [4 2 0 2]\n",
      " [2 0 2 0]]\n",
      "Pairwise Distance Matrix:\n",
      "[[0 4 0]\n",
      " [4 0 4]\n",
      " [0 4 0]]\n"
     ]
    }
   ],
   "source": [
    "import numpy as np\n",
    "\n",
    "def graph_distance_matrix(graphs):\n",
    "    n = len(graphs)\n",
    "    distance_matrix = np.zeros((n, n), dtype=int)\n",
    "\n",
    "    for i in range(n):\n",
    "        for j in range(n):\n",
    "            if i != j:\n",
    "                edges_i = set(zip(*np.where(graphs[i] == 1)))\n",
    "                edges_j = set(zip(*np.where(graphs[j] == 1)))\n",
    "              #  print(edges_i, edges_j)\n",
    "                distance_matrix[i, j] = len(edges_i - edges_j) + len(edges_j - edges_i)\n",
    "\n",
    "    return distance_matrix\n",
    "\n",
    "graph1 = np.array([[0, 1, 1],\n",
    "                   [1, 0, 0],\n",
    "                   [1, 0, 0]])\n",
    "\n",
    "graph2 = np.array([[0, 1, 1],\n",
    "                   [1, 0, 1],\n",
    "                   [1, 1, 0]])\n",
    "\n",
    "graph3 = np.array([[0, 1, 0],\n",
    "                   [1, 0, 1],\n",
    "                   [0, 1, 0]])\n",
    "\n",
    "graph4 = np.array([[0, 1, 1],\n",
    "                   [1, 0, 1],\n",
    "                   [1, 1, 0]])\n",
    "\n",
    "graphs_list = [graph1, graph2, graph3, graph4]\n",
    "distance_matrix = graph_distance_matrix(graphs_list)\n",
    "\n",
    "# Display the result\n",
    "print(\"Pairwise Distance Matrix:\")\n",
    "print(distance_matrix)\n",
    "\n",
    "graphA = np.array([[0, 1, 1],\n",
    "                   [1, 0, 1],\n",
    "                   [1, 1, 0]])\n",
    "\n",
    "graphB = np.array([[0, 1, 0],\n",
    "                   [1, 0, 0],\n",
    "                   [0, 0, 0]])\n",
    "\n",
    "graphC = np.array([[0, 1, 1],\n",
    "                   [1, 0, 1],\n",
    "                   [1, 1, 0]])\n",
    "\n",
    "# List of graphs\n",
    "graphs_list2 = [graphA, graphB, graphC]\n",
    "\n",
    "# Calculate pairwise distance matrix\n",
    "distance_matrix2 = graph_distance_matrix(graphs_list2)\n",
    "\n",
    "# Display the result\n",
    "print(\"Pairwise Distance Matrix:\")\n",
    "print(distance_matrix2)\n"
   ]
  },
  {
   "cell_type": "code",
   "execution_count": null,
   "metadata": {},
   "outputs": [],
   "source": []
  }
 ],
 "metadata": {
  "kernelspec": {
   "display_name": "Python 3 (ipykernel)",
   "language": "python",
   "name": "python3"
  },
  "language_info": {
   "codemirror_mode": {
    "name": "ipython",
    "version": 3
   },
   "file_extension": ".py",
   "mimetype": "text/x-python",
   "name": "python",
   "nbconvert_exporter": "python",
   "pygments_lexer": "ipython3",
   "version": "3.9.13"
  },
  "vscode": {
   "interpreter": {
    "hash": "8433822212b79f5d8b3452ec504986410bf31415c55c9cbd3d55cd029f0ca8d9"
   }
  }
 },
 "nbformat": 4,
 "nbformat_minor": 2
}
