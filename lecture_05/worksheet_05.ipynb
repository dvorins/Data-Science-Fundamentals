{
 "cells": [
  {
   "attachments": {},
   "cell_type": "markdown",
   "metadata": {},
   "source": [
    "# Worksheet 05\n",
    "\n",
    "Name:  \n",
    "UID: \n",
    "\n",
    "### Topics\n",
    "\n",
    "- Cost Functions\n",
    "- Kmeans\n",
    "\n",
    "### Cost Function\n",
    "\n",
    "Solving Data Science problems often starts by defining a metric with which to evaluate solutions were you able to find some. This metric is called a cost function. Data Science then backtracks and tries to find a process / algorithm to find solutions that can optimize for that cost function.\n",
    "\n",
    "For example suppose you are asked to cluster three points A, B, C into two non-empty clusters. If someone gave you the solution `{A, B}, {C}`, how would you evaluate that this is a good solution?\n",
    "\n",
    "Notice that because the clusters need to be non-empty and all points must be assigned to a cluster, it must be that two of the three points will be together in one cluster and the third will be alone in the other cluster.\n",
    "\n",
    "In the above solution, if A and B are closer than A and C, and B and C, then this is a good solution. The smaller the distance between the two points in the same cluster (here A and B), the better the solution. So we can define our cost function to be that distance (between A and B here)!\n",
    "\n",
    "The algorithm / process would involve clustering together the two closest points and put the third in its own cluster. This process optimizes for that cost function because no other pair of points could have a lower distance (although it could equal it)."
   ]
  },
  {
   "cell_type": "markdown",
   "metadata": {},
   "source": [
    "### K means\n",
    "\n",
    "a) (1-dimensional clustering) Walk through Lloyd's algorithm step by step on the following dataset:\n",
    "\n",
    "`[0, .5, 1.5, 2, 6, 6.5, 7]` (note: each of these are 1-dimensional data points)\n",
    "\n",
    "Given the initial centroids:\n",
    "\n",
    "`[0, 2]`"
   ]
  },
  {
   "cell_type": "markdown",
   "metadata": {},
   "source": [
    "round 1:\n",
    "cluster 1: 0; 0.5; centroid = 0\n",
    "cluster 2: 1.5; 2; 6, 6.5; 7; centroid = 2\n",
    "\n",
    "round 2:\n",
    "cluster 1: 0; 0.5; 1.5; 2; centroid = 0.25\n",
    "cluster 2: 6, 6.5; 7; centroid = 4.6\n",
    "\n",
    "round 3:\n",
    "cluster 1: 0; 0.5; 1.5; 2; centroid = 1.25\n",
    "cluster 2: 6, 6.5; 7; centroid = 6.5"
   ]
  },
  {
   "cell_type": "markdown",
   "metadata": {},
   "source": [
    "b) Describe in plain english what the cost function for k means is."
   ]
  },
  {
   "cell_type": "markdown",
   "metadata": {},
   "source": [
    "How far away the points are from the centroid (with a slight weight, due to squaring them)"
   ]
  },
  {
   "cell_type": "markdown",
   "metadata": {},
   "source": [
    "c) For the same number of clusters K, why could there be very different solutions to the K means algorithm on a given dataset?"
   ]
  },
  {
   "cell_type": "markdown",
   "metadata": {},
   "source": [
    "the number of clusters (k) can vary. With a large k, there will be very specific clutsers, with a small k there will be very broad clusters"
   ]
  },
  {
   "cell_type": "markdown",
   "metadata": {},
   "source": [
    "d) Does Lloyd's Algorithm always converge? Why / why not?"
   ]
  },
  {
   "cell_type": "markdown",
   "metadata": {},
   "source": [
    "Yes. It is greedy, but it may be on a local minimum."
   ]
  },
  {
   "attachments": {},
   "cell_type": "markdown",
   "metadata": {},
   "source": [
    "e) Follow along in class the implementation of Kmeans"
   ]
  },
  {
   "cell_type": "code",
   "execution_count": 17,
   "metadata": {},
   "outputs": [],
   "source": [
    "import numpy as np\n",
    "from PIL import Image as im\n",
    "import matplotlib.pyplot as plt\n",
    "import sklearn.datasets as datasets\n",
    "\n",
    "centers = [[0, 0], [2, 2], [-3, 2], [2, -4]]\n",
    "X, _ = datasets.make_blobs(n_samples=300, centers=centers, cluster_std=1, random_state=0)\n",
    "\n",
    "class KMeans():\n",
    "\n",
    "    def __init__(self, data, k):\n",
    "        self.data = data\n",
    "        self.k = k\n",
    "        self.assignment = [-1 for _ in range(len(data))]\n",
    "        self.snaps = []\n",
    "    \n",
    "    def snap(self, centers):\n",
    "        TEMPFILE = \"temp.png\"\n",
    "\n",
    "        fig, ax = plt.subplots()\n",
    "        ax.scatter(X[:, 0], X[:, 1], c=self.assignment)\n",
    "        ax.scatter(centers[:,0], centers[:, 1], c='r')\n",
    "        fig.savefig(TEMPFILE)\n",
    "        plt.close()\n",
    "        self.snaps.append(im.fromarray(np.asarray(im.open(TEMPFILE))))\n",
    "\n",
    "    def is_unassigned(self, i):\n",
    "        return self.assignment[i] == -1\n",
    "\n",
    "    def unassign(self):\n",
    "        self.assignment = [-1 for _ in range(len(self.data))]\n",
    "\n",
    "    def initialize(self):\n",
    "       return (self.data[np.random.choice(range(len(self.data)), size=self.k, replace=False)])\n",
    "\n",
    "    def are_centers_diff(self, c1, c2):\n",
    "        for i in range(len(c1)):\n",
    "            if c1[i] not in c2:\n",
    "                return True\n",
    "        return False\n",
    "\n",
    "\n",
    "    def assign(self, centers):\n",
    "        for i in range(len(self.data)):\n",
    "            temp_dist = self.dist(self.data[i], centers[0])\n",
    "            self.assignment[i] = 0  # Initialize assignment for the first cluster\n",
    "            for j in range(1, len(centers)):\n",
    "                new_dist = self.dist(self.data[i], centers[j])\n",
    "                if new_dist < temp_dist:\n",
    "                    self.assignment[i] = j  # Assign the index of the cluster with the minimum distance\n",
    "                    temp_dist = new_dist\n",
    "\n",
    "\n",
    "\n",
    "    def calculate_new_centers(self):\n",
    "        centers = []\n",
    "        for j in range(self.k):\n",
    "            cluster_j = self.data[[i for i in range(len(self.data)) if self.assignment[i]==j]]\n",
    "\n",
    "            centers.append(np.mean(cluster_j, axis=0))\n",
    "\n",
    "        return np.array(centers)\n",
    "\n",
    "\n",
    "    def dist(self, x, y):\n",
    "        return sum(((x - y)**2) ** (1/2))\n",
    "\n",
    "    def lloyds(self):\n",
    "        centers = self.initialize()\n",
    "        (self.snap(centers))\n",
    "        self.assign(centers)\n",
    "        new_centers = self.calculate_new_centers()\n",
    "        (self.snap(centers))\n",
    "        while (self.are_centers_diff(centers, new_centers)):\n",
    "            centers = new_centers\n",
    "            self.unassign()\n",
    "            self.assign(centers)\n",
    "            (self.snap(centers))\n",
    "            new_centers = self.calculate_new_centers()\n",
    "\n",
    "            \n",
    "\n",
    "        return\n",
    "            \n",
    "\n",
    "kmeans = KMeans(X, 4)\n",
    "kmeans.lloyds()\n",
    "images = kmeans.snaps\n",
    "\n",
    "images[0].save(\n",
    "    'kmeans.gif',\n",
    "    optimize=False,\n",
    "    save_all=True,\n",
    "    append_images=images[1:],\n",
    "    loop=0,\n",
    "    duration=500\n",
    ")"
   ]
  },
  {
   "cell_type": "code",
   "execution_count": null,
   "metadata": {},
   "outputs": [],
   "source": []
  }
 ],
 "metadata": {
  "kernelspec": {
   "display_name": "Python 3.9.13 ('base')",
   "language": "python",
   "name": "python3"
  },
  "language_info": {
   "codemirror_mode": {
    "name": "ipython",
    "version": 3
   },
   "file_extension": ".py",
   "mimetype": "text/x-python",
   "name": "python",
   "nbconvert_exporter": "python",
   "pygments_lexer": "ipython3",
   "version": "3.9.13"
  },
  "orig_nbformat": 4,
  "vscode": {
   "interpreter": {
    "hash": "8433822212b79f5d8b3452ec504986410bf31415c55c9cbd3d55cd029f0ca8d9"
   }
  }
 },
 "nbformat": 4,
 "nbformat_minor": 2
}
