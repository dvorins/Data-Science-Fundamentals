{
 "cells": [
  {
   "attachments": {},
   "cell_type": "markdown",
   "metadata": {},
   "source": [
    "# Worksheet 08\n",
    "\n",
    "Name:  \n",
    "UID: \n",
    "\n",
    "### Topics\n",
    "\n",
    "- Soft Clustering\n",
    "- Clustering Aggregation\n",
    "\n",
    "### Probability Review\n",
    "\n",
    "Read through [the following](https://medium.com/@gallettilance/overview-of-probability-3272b72c82c8)\n",
    "\n",
    "### Soft Clustering\n",
    "\n",
    "We generate 10 data points that come from a normal distribution with mean 5 and variance 1."
   ]
  },
  {
   "cell_type": "code",
   "execution_count": 111,
   "metadata": {},
   "outputs": [
    {
     "name": "stdout",
     "output_type": "stream",
     "text": [
      "[6.890326411333684, 4.440583029700601, 6.329544736039495, 5.959293661606207, 5.811097544855288, 5.041350461493732, 4.800822031316854, 5.207161731091848, 5.396634154803546, 4.9395054095724635]\n"
     ]
    }
   ],
   "source": [
    "import random\n",
    "import numpy as np\n",
    "from sklearn.cluster import KMeans\n",
    "\n",
    "mean = 5\n",
    "stdev = 1\n",
    "\n",
    "s1 = np.random.normal(mean, stdev, 10).tolist()\n",
    "print(s1)"
   ]
  },
  {
   "cell_type": "markdown",
   "metadata": {},
   "source": [
    "a) Generate 10 more data points, this time coming from a normal distribution with mean 8 and variance 1."
   ]
  },
  {
   "cell_type": "code",
   "execution_count": 112,
   "metadata": {},
   "outputs": [
    {
     "name": "stdout",
     "output_type": "stream",
     "text": [
      "[5.816779507878609, 9.56729220197961, 8.3192413619661, 8.789541895092105, 7.936728224890414, 8.577939397531871, 7.149042671331649, 8.10065257418663, 7.835032251674348, 9.455739161232463]\n"
     ]
    }
   ],
   "source": [
    "s2 = np.random.normal(8, 1, 10).tolist()\n",
    "print(s2)"
   ]
  },
  {
   "attachments": {},
   "cell_type": "markdown",
   "metadata": {},
   "source": [
    "b) Flip a fair coin 10 times. If the coin lands on H, then pick the last data point of `s1` and remove it from `s1`, if T then pick the last data point from `s2` and remove it from `s2`. Add these 10 points to a list called `data`."
   ]
  },
  {
   "cell_type": "code",
   "execution_count": 113,
   "metadata": {},
   "outputs": [
    {
     "name": "stdout",
     "output_type": "stream",
     "text": [
      "[4.9395054095724635, 9.455739161232463, 5.396634154803546, 5.207161731091848, 7.835032251674348, 4.800822031316854, 5.041350461493732, 5.811097544855288, 8.10065257418663, 5.959293661606207]\n"
     ]
    }
   ],
   "source": [
    "data = []\n",
    "for i in range(10):\n",
    "    # flip coin\n",
    "    coin_output = random.choice([0, 1])\n",
    "    if coin_output == 0:\n",
    "        p1 = s1.pop()\n",
    "        data.append(p1)\n",
    "    else:\n",
    "        p2 = s2.pop()\n",
    "        data.append(p2)\n",
    "print(data)"
   ]
  },
  {
   "cell_type": "markdown",
   "metadata": {},
   "source": [
    "c) This `data` is a Gaussian Mixture Distribution with 2 mixture components. Over the next few questions we will walk through the GMM algorithm to see if we can uncover the parameters we used to generate this data. First, please list all these parameters of the GMM that created `data` and the values we know they have."
   ]
  },
  {
   "cell_type": "markdown",
   "metadata": {},
   "source": [
    "the means, variances, and probablity of each distribution"
   ]
  },
  {
   "cell_type": "markdown",
   "metadata": {},
   "source": [
    "d) Let's assume there are two mixture components (note: we could plot the data and make the observation that there are two clusters). The EM algorithm asks us to start with a random `mean_j`, `variance_j`, `P(S_j)` for each component j. One method we could use to find sensible values for these is to apply K means with k=2 here.\n",
    "\n",
    "1. the centroids would be the estimates of the `mean_j`\n",
    "2. the intra-cluster variance could be the estimate of `variance_j`\n",
    "3. the proportion of points in each cluster could be the estimate of `P(S_j)`\n",
    "\n",
    "Go through this process and list the parameter estimates it gives. Are they close or far from the true values?"
   ]
  },
  {
   "cell_type": "code",
   "execution_count": 116,
   "metadata": {},
   "outputs": [
    {
     "name": "stdout",
     "output_type": "stream",
     "text": [
      "[9.455739161232463, 7.835032251674348, 8.10065257418663]\n",
      "[4.9395054095724635, 5.396634154803546, 5.207161731091848, 4.800822031316854, 5.041350461493732, 5.811097544855288, 5.959293661606207]\n",
      "P(S_1) = 0.3,  P(S_2) = 0.7\n",
      "mean_1 = 8.463807995697813,  mean_2 = 5.307980713534278\n",
      "var_1 = 0.5037227445347187,  var_2 = 0.16563352457653174\n"
     ]
    }
   ],
   "source": [
    "kmeans = KMeans(2, init='k-means++').fit(X=np.array(data).reshape(-1, 1))\n",
    "\n",
    "s1 = [x[0] for x in filter(lambda x: x[1] == 0, zip(data, kmeans.labels_))]\n",
    "print(s1)\n",
    "s2 = [x[0] for x in filter(lambda x: x[1] == 1, zip(data, kmeans.labels_))]\n",
    "print(s2)\n",
    "\n",
    "prob_s = [ len(s1) / (len(s1) + len(s2)) , len(s2) / (len(s1) + len(s2)) ]\n",
    "mean = [ sum(s1)/len(s1) , sum(s2)/len(s2) ]\n",
    "var = [ sum(map(lambda x : (x - mean[0])**2, s1)) / len(s1) , sum(map(lambda x : (x - mean[1])**2, s2)) / len(s2) ]\n",
    "\n",
    "print(\"P(S_1) = \" + str(prob_s[0]) + \",  P(S_2) = \" + str(prob_s[1]))\n",
    "print(\"mean_1 = \" + str(mean[0]) + \",  mean_2 = \" + str(mean[1]))\n",
    "print(\"var_1 = \" + str(var[0]) + \",  var_2 = \" + str(var[1]))"
   ]
  },
  {
   "cell_type": "markdown",
   "metadata": {},
   "source": []
  },
  {
   "cell_type": "markdown",
   "metadata": {},
   "source": [
    "e) For each data point, compute `P(S_j | X_i)`. Comment on which cluster you think each point belongs to based on the estimated probabilities. How does that compare to the truth?"
   ]
  },
  {
   "cell_type": "code",
   "execution_count": 118,
   "metadata": {},
   "outputs": [
    {
     "name": "stdout",
     "output_type": "stream",
     "text": [
      "point =  4.9395054095724635\n",
      "probability of observing that point if it came from cluster 0 =  1.858243502849937e-11\n",
      "probability of observing that point if it came from cluster 1 =  0.20281175445690378\n",
      "point =  9.455739161232463\n",
      "probability of observing that point if it came from cluster 0 =  0.11393981617303055\n",
      "probability of observing that point if it came from cluster 1 =  1.6245227079284508e-136\n",
      "point =  5.396634154803546\n",
      "probability of observing that point if it came from cluster 0 =  7.042920659799715e-09\n",
      "probability of observing that point if it came from cluster 1 =  2.0871488514827887\n",
      "point =  5.207161731091848\n",
      "probability of observing that point if it came from cluster 0 =  6.642702039488689e-10\n",
      "probability of observing that point if it came from cluster 1 =  2.0012842813978673\n",
      "point =  7.835032251674348\n",
      "probability of observing that point if it came from cluster 0 =  0.36338849657252875\n",
      "probability of observing that point if it came from cluster 1 =  6.852530105098928e-51\n",
      "point =  4.800822031316854\n",
      "probability of observing that point if it came from cluster 0 =  2.606632041271463e-12\n",
      "probability of observing that point if it came from cluster 1 =  0.02217751313914024\n",
      "point =  5.041350461493732\n",
      "probability of observing that point if it came from cluster 0 =  7.491585479593716e-11\n",
      "probability of observing that point if it came from cluster 1 =  0.6592682082663723\n",
      "point =  5.811097544855288\n",
      "probability of observing that point if it came from cluster 0 =  7.52623734254562e-07\n",
      "probability of observing that point if it came from cluster 1 =  0.02389094540134777\n",
      "point =  8.10065257418663\n",
      "probability of observing that point if it came from cluster 0 =  0.6107370848474952\n",
      "probability of observing that point if it came from cluster 1 =  4.482983297743881e-62\n",
      "point =  5.959293661606207\n",
      "probability of observing that point if it came from cluster 0 =  3.3934986596841355e-06\n",
      "probability of observing that point if it came from cluster 1 =  0.001057055231644844\n",
      "4.9395054095724635\n",
      "Probability of coming from S_1 = 3.926745147248991e-11\n",
      "Probability of coming from S_2 = 0.9999999999607325\n",
      "\n",
      "9.455739161232463\n",
      "Probability of coming from S_1 = 1.0\n",
      "Probability of coming from S_2 = 3.3268027915807766e-135\n",
      "\n",
      "5.396634154803546\n",
      "Probability of coming from S_1 = 1.4461807848424741e-09\n",
      "Probability of coming from S_2 = 0.9999999985538193\n",
      "\n",
      "5.207161731091848\n",
      "Probability of coming from S_1 = 1.4225226914012125e-10\n",
      "Probability of coming from S_2 = 0.9999999998577478\n",
      "\n",
      "7.835032251674348\n",
      "Probability of coming from S_1 = 1.0\n",
      "Probability of coming from S_2 = 4.400039369079534e-50\n",
      "\n",
      "4.800822031316854\n",
      "Probability of coming from S_1 = 5.037210487139433e-11\n",
      "Probability of coming from S_2 = 0.999999999949628\n",
      "\n",
      "5.041350461493732\n",
      "Probability of coming from S_1 = 4.870065704428502e-11\n",
      "Probability of coming from S_2 = 0.9999999999512994\n",
      "\n",
      "5.811097544855288\n",
      "Probability of coming from S_1 = 1.350087528138711e-05\n",
      "Probability of coming from S_2 = 0.9999864991247187\n",
      "\n",
      "8.10065257418663\n",
      "Probability of coming from S_1 = 1.0\n",
      "Probability of coming from S_2 = 1.712732797946008e-61\n",
      "\n",
      "5.959293661606207\n",
      "Probability of coming from S_1 = 0.0013739663623557263\n",
      "Probability of coming from S_2 = 0.9986260336376444\n",
      "\n"
     ]
    }
   ],
   "source": [
    "from scipy.stats import norm\n",
    "\n",
    "prob_s0_x = [] # P(S_0 | X_i)\n",
    "prob_s1_x = [] # P(S_1 | X_i)\n",
    "prob_x = [] # P(X_i)\n",
    "\n",
    "k = 2\n",
    "\n",
    "for p in data:\n",
    "    print(\"point = \", p)\n",
    "    pdf_i = []\n",
    "\n",
    "    for j in range(k):\n",
    "        # P(X_i | S_j)\n",
    "        pdf_i.append(norm.pdf(p, mean[j], var[j]))\n",
    "        print(\"probability of observing that point if it came from cluster \" + str(j) + \" = \", pdf_i[j])\n",
    "        # P(S_j) already computed\n",
    "        prob_s[j]\n",
    "\n",
    "    # P(X_i) = P(S_0)P(X_i | S_0) + P(S_1)P(X_i | S_1)\n",
    "    prob_x = prob_s[0] * pdf_i[0] + prob_s[1] * pdf_i[1]\n",
    "\n",
    "    prob_s0_x.append(pdf_i[0] * prob_s[0] / prob_x )\n",
    "    prob_s1_x.append(pdf_i[1] * prob_s[1] / prob_x )\n",
    "\n",
    "probs = zip(data, prob_s0_x, prob_s1_x)\n",
    "for p in probs:\n",
    "    print(p[0])\n",
    "    print(\"Probability of coming from S_1 = \" + str(p[1]))\n",
    "    print(\"Probability of coming from S_2 = \" + str(p[2]))\n",
    "    print()\n"
   ]
  },
  {
   "cell_type": "markdown",
   "metadata": {},
   "source": [
    "f) Having computed `P(S_j | X_i)`, update the estimates of `mean_j`, `var_j`, and `P(S_j)`. How different are these values from the original ones you got from K means? briefly comment."
   ]
  },
  {
   "cell_type": "code",
   "execution_count": 94,
   "metadata": {},
   "outputs": [
    {
     "name": "stdout",
     "output_type": "stream",
     "text": [
      "P(S_1) = 1.7465696419341758e-53,  P(S_2) = 1.0\n",
      "mean_1 = 5.914157506595271,  mean_2 = 6.164150083628297\n",
      "var_1 = 3.700893426507142,  var_2 = 3.7417066416142157\n"
     ]
    }
   ],
   "source": [
    "prob_s = [sum(prob_s0_x)/ len(prob_s0_x), sum(prob_s1_x)/ len(prob_s1_x) ]\n",
    "mean = [sum([x[0] * x[1] for x in zip(prob_s0_x, data)]) / sum(prob_s0_x), sum([x[0] * x[1] for x in zip(prob_s1_x, data)]) / sum(prob_s1_x) ]\n",
    "var = [\n",
    "    sum([x[0] * (x[1] - mean[0]) ** 2 for x in zip(prob_s0_x, data)]) / sum(prob_s0_x),\n",
    "    sum([x[0] * (x[1] - mean[1]) ** 2 for x in zip(prob_s1_x, data)]) / sum(prob_s1_x)\n",
    "]\n",
    "print(\"P(S_1) = \" + str(prob_s[0]) + \",  P(S_2) = \" + str(prob_s[1]))\n",
    "print(\"mean_1 = \" + str(mean[0]) + \",  mean_2 = \" + str(mean[1]))\n",
    "print(\"var_1 = \" + str(var[0]) + \",  var_2 = \" + str(var[1]))\n",
    "\n",
    "#these values are more specific and closer to the actual"
   ]
  },
  {
   "cell_type": "markdown",
   "metadata": {},
   "source": []
  },
  {
   "cell_type": "markdown",
   "metadata": {},
   "source": [
    "g) Update `P(S_j | X_i)`. Comment on any differences or lack thereof you observe."
   ]
  },
  {
   "cell_type": "code",
   "execution_count": 101,
   "metadata": {},
   "outputs": [
    {
     "name": "stdout",
     "output_type": "stream",
     "text": [
      "point =  8.51538171867618\n",
      "point =  7.964258733538877\n",
      "point =  3.5227296158237067\n",
      "point =  5.82367016201469\n",
      "point =  8.547699745469314\n",
      "point =  6.357148391481212\n",
      "point =  4.021458416074763\n",
      "point =  3.6716389853885456\n",
      "point =  8.131535970551521\n",
      "point =  5.085979097264154\n",
      "8.51538171867618\n",
      "Probability of coming from S_1 = 1.6804240481185027e-53\n",
      "Probability of coming from S_2 = 1.0\n",
      "\n",
      "7.964258733538877\n",
      "Probability of coming from S_1 = 1.6360911474539575e-53\n",
      "Probability of coming from S_2 = 1.0\n",
      "\n",
      "3.5227296158237067\n",
      "Probability of coming from S_1 = 1.7456710482718852e-53\n",
      "Probability of coming from S_2 = 1.0\n",
      "\n",
      "5.82367016201469\n",
      "Probability of coming from S_1 = 1.7125696436667612e-53\n",
      "Probability of coming from S_2 = 1.0\n",
      "\n",
      "8.547699745469314\n",
      "Probability of coming from S_1 = 1.6283877517853226e-53\n",
      "Probability of coming from S_2 = 1.0\n",
      "\n",
      "6.357148391481212\n",
      "Probability of coming from S_1 = 1.6892792382227634e-53\n",
      "Probability of coming from S_2 = 1.0\n",
      "\n",
      "4.021458416074763\n",
      "Probability of coming from S_1 = 1.758012633901729e-53\n",
      "Probability of coming from S_2 = 1.0\n",
      "\n",
      "3.6716389853885456\n",
      "Probability of coming from S_1 = 1.7783992833938822e-53\n",
      "Probability of coming from S_2 = 1.0\n",
      "\n",
      "8.131535970551521\n",
      "Probability of coming from S_1 = 1.6527782685107588e-53\n",
      "Probability of coming from S_2 = 1.0\n",
      "\n",
      "5.085979097264154\n",
      "Probability of coming from S_1 = 1.7452016782399887e-53\n",
      "Probability of coming from S_2 = 1.0\n",
      "\n",
      "P(S_1) = 1.7026814741565553e-53,  P(S_2) = 1.0\n",
      "mean_1 = 6.110111799968228,  mean_2 = 6.164150083628297\n",
      "var_1 = 3.7458570997139726,  var_2 = 3.7417066416142157\n"
     ]
    }
   ],
   "source": [
    "\n",
    "prob_s0_x = []  # P(S_0 | X_i)\n",
    "prob_s1_x = []  # P(S_1 | X_i)\n",
    "\n",
    "k = 2\n",
    "\n",
    "for p in data:\n",
    "    print(\"point = \", p)\n",
    "    pdf_i = []\n",
    "\n",
    "    for j in range(k):\n",
    "        # P(X_i | S_j)\n",
    "        pdf_i.append(norm.pdf(p, mean[j], var[j]))\n",
    "\n",
    "    # P(X_i) = P(S_0)P(X_i | S_0) + P(S_1)P(X_i | S_1)\n",
    "    prob_x_i = prob_s[0] * pdf_i[0] + prob_s[1] * pdf_i[1]\n",
    "\n",
    "    prob_s0_x.append(pdf_i[0] * prob_s[0] / prob_x_i)\n",
    "    prob_s1_x.append(pdf_i[1] * prob_s[1] / prob_x_i)\n",
    "\n",
    "    # Update prob_s based on the current point\n",
    "    prob_s[0] = sum(prob_s0_x) / len(prob_s0_x)\n",
    "    prob_s[1] = sum(prob_s1_x) / len(prob_s1_x)\n",
    "\n",
    "probs = zip(data, prob_s0_x, prob_s1_x)\n",
    "for p in probs:\n",
    "    print(p[0])\n",
    "    print(\"Probability of coming from S_1 = \" + str(p[1]))\n",
    "    print(\"Probability of coming from S_2 = \" + str(p[2]))\n",
    "    print()\n",
    "\n",
    "# Recompute overall probabilities for each cluster after the iterations\n",
    "prob_s = [sum(prob_s0_x) / len(prob_s0_x), sum(prob_s1_x) / len(prob_s1_x)]\n",
    "mean = [\n",
    "    sum([x[0] * x[1] for x in zip(prob_s0_x, data)]) / sum(prob_s0_x),\n",
    "    sum([x[0] * x[1] for x in zip(prob_s1_x, data)]) / sum(prob_s1_x)\n",
    "]\n",
    "var = [\n",
    "    sum([x[0] * (x[1] - mean[0]) ** 2 for x in zip(prob_s0_x, data)]) / sum(prob_s0_x),\n",
    "    sum([x[0] * (x[1] - mean[1]) ** 2 for x in zip(prob_s1_x, data)]) / sum(prob_s1_x)\n",
    "]\n",
    "\n",
    "print(\"P(S_1) = \" + str(prob_s[0]) + \",  P(S_2) = \" + str(prob_s[1]))\n",
    "print(\"mean_1 = \" + str(mean[0]) + \",  mean_2 = \" + str(mean[1]))\n",
    "print(\"var_1 = \" + str(var[0]) + \",  var_2 = \" + str(var[1]))\n",
    "\n",
    "\n",
    "\n",
    "\n",
    "# the values are getting closer to the actual\n"
   ]
  },
  {
   "cell_type": "markdown",
   "metadata": {},
   "source": []
  },
  {
   "cell_type": "markdown",
   "metadata": {},
   "source": [
    "h) Use `P(S_j | X_i)` to create a hard assignment - label each point as belonging to a specific cluster (0 or 1)"
   ]
  },
  {
   "cell_type": "code",
   "execution_count": 119,
   "metadata": {},
   "outputs": [
    {
     "name": "stdout",
     "output_type": "stream",
     "text": [
      "(4.9395054095724635, 3.926745147248991e-11, 0.9999999999607325)\n",
      "cluster 2\n",
      "(9.455739161232463, 1.0, 3.3268027915807766e-135)\n",
      "cluster 1\n",
      "(5.396634154803546, 1.4461807848424741e-09, 0.9999999985538193)\n",
      "cluster 2\n",
      "(5.207161731091848, 1.4225226914012125e-10, 0.9999999998577478)\n",
      "cluster 2\n",
      "(7.835032251674348, 1.0, 4.400039369079534e-50)\n",
      "cluster 1\n",
      "(4.800822031316854, 5.037210487139433e-11, 0.999999999949628)\n",
      "cluster 2\n",
      "(5.041350461493732, 4.870065704428502e-11, 0.9999999999512994)\n",
      "cluster 2\n",
      "(5.811097544855288, 1.350087528138711e-05, 0.9999864991247187)\n",
      "cluster 2\n",
      "(8.10065257418663, 1.0, 1.712732797946008e-61)\n",
      "cluster 1\n",
      "(5.959293661606207, 0.0013739663623557263, 0.9986260336376444)\n",
      "cluster 2\n"
     ]
    }
   ],
   "source": [
    "\n",
    "\n",
    "probs = zip(data, prob_s0_x, prob_s1_x)\n",
    "for p in probs:\n",
    "    print(p)\n",
    "\n",
    "    # Find the maximum probability between p[1] and p[2]\n",
    "    if p[1] > p[2]:\n",
    "        print('cluster 1')\n",
    "    else:\n",
    "        print('cluster 2')\n",
    "    \n"
   ]
  },
  {
   "cell_type": "code",
   "execution_count": null,
   "metadata": {},
   "outputs": [],
   "source": []
  }
 ],
 "metadata": {
  "kernelspec": {
   "display_name": "Python 3.9.13 ('base')",
   "language": "python",
   "name": "python3"
  },
  "language_info": {
   "codemirror_mode": {
    "name": "ipython",
    "version": 3
   },
   "file_extension": ".py",
   "mimetype": "text/x-python",
   "name": "python",
   "nbconvert_exporter": "python",
   "pygments_lexer": "ipython3",
   "version": "3.9.13"
  },
  "orig_nbformat": 4,
  "vscode": {
   "interpreter": {
    "hash": "8433822212b79f5d8b3452ec504986410bf31415c55c9cbd3d55cd029f0ca8d9"
   }
  }
 },
 "nbformat": 4,
 "nbformat_minor": 2
}
